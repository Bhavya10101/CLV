{
  "nbformat": 4,
  "nbformat_minor": 0,
  "metadata": {
    "colab": {
      "provenance": []
    },
    "kernelspec": {
      "name": "python3",
      "display_name": "Python 3"
    },
    "language_info": {
      "name": "python"
    }
  },
  "cells": [
    {
      "cell_type": "code",
      "execution_count": 36,
      "metadata": {
        "id": "3PnfrVlTO4b0"
      },
      "outputs": [],
      "source": [
        "import pandas as pd\n",
        "import numpy as np\n",
        "from sklearn.preprocessing import OneHotEncoder, LabelEncoder, StandardScaler\n",
        "from sklearn.impute import SimpleImputer\n",
        "from sklearn.model_selection import train_test_split\n",
        "from sklearn.metrics import mean_squared_error, mean_absolute_error\n",
        "from sklearn.compose import ColumnTransformer\n",
        "from sklearn.pipeline import Pipeline\n",
        "from xgboost import XGBRegressor\n",
        "from sklearn.cluster import KMeans"
      ]
    },
    {
      "cell_type": "code",
      "source": [
        "#Dataset importing\n",
        "df = pd.read_csv(\"CLVP.csv\")"
      ],
      "metadata": {
        "id": "1w6oBskLO9Cq"
      },
      "execution_count": 37,
      "outputs": []
    },
    {
      "cell_type": "code",
      "source": [
        "#Removing irrelevant feature. (The name of the customer doesn't contribute to the change in cusstomer life time value.)\n",
        "#For example: Two people who share a name like Neha could have variying difference in their life time values\n",
        "df.drop(columns=['Customer'], inplace=True)"
      ],
      "metadata": {
        "id": "0CJ_M6RNPDfq"
      },
      "execution_count": 38,
      "outputs": []
    },
    {
      "cell_type": "code",
      "source": [
        "# Remove invalid rows (Income = 0)\n",
        "df = df[df['Income'] > 0]"
      ],
      "metadata": {
        "id": "Eq9q8CDZQLR6"
      },
      "execution_count": 39,
      "outputs": []
    },
    {
      "cell_type": "code",
      "source": [
        "# Encoding the emplyment column. \"Unemplyed\" changed to 0 and the other values change to 1\n",
        "df['IsEmployed'] = df['EmploymentStatus'].apply(lambda x: 0 if x == 'Unemployed' else 1)"
      ],
      "metadata": {
        "id": "slUnVBoFQ7DO"
      },
      "execution_count": 40,
      "outputs": []
    },
    {
      "cell_type": "code",
      "source": [
        "# Ordinal encoding for Education\n",
        "education_mapping = {\n",
        "    'High School or Below': 0,\n",
        "    'College': 1,\n",
        "    'Bachelor': 2,\n",
        "    'Master': 3,\n",
        "    'Doctor': 4\n",
        "}\n",
        "df['EducationLevel'] = df['Education'].map(education_mapping)"
      ],
      "metadata": {
        "id": "RnBnhUQSRV_Q"
      },
      "execution_count": 41,
      "outputs": []
    },
    {
      "cell_type": "code",
      "source": [
        "# KMeans clustering for segmentation\n",
        "kmeans_features = df[['Income', 'IsEmployed', 'EducationLevel']]\n",
        "kmeans = KMeans(n_clusters=4, random_state=42)\n",
        "df['ClusterID'] = kmeans.fit_predict(kmeans_features)"
      ],
      "metadata": {
        "id": "YQO8CzPXWVUb"
      },
      "execution_count": 42,
      "outputs": []
    },
    {
      "cell_type": "code",
      "source": [
        "# Define target and features\n",
        "y = df['CustomerLV']\n",
        "X = df.drop(columns=['CustomerLV', 'Education', 'EmploymentStatus'])"
      ],
      "metadata": {
        "id": "nclJlboWWbR-"
      },
      "execution_count": 43,
      "outputs": []
    },
    {
      "cell_type": "code",
      "source": [
        "# Separate columns by type\n",
        "categorical_cols = [col for col in X.columns if X[col].dtype == 'object']\n",
        "numerical_cols = [col for col in X.columns if X[col].dtype in ['int64', 'float64']]"
      ],
      "metadata": {
        "id": "hSAnGO91Wgop"
      },
      "execution_count": 44,
      "outputs": []
    },
    {
      "cell_type": "code",
      "source": [
        "# Preprocessing pipelines\n",
        "numerical_pipeline = Pipeline([\n",
        "    ('imputer', SimpleImputer(strategy='median')),\n",
        "    ('scaler', StandardScaler())\n",
        "])\n",
        "\n",
        "categorical_pipeline = Pipeline([\n",
        "    ('imputer', SimpleImputer(strategy='most_frequent')),\n",
        "    ('encoder', OneHotEncoder(handle_unknown='ignore'))\n",
        "])\n",
        "\n",
        "preprocessor = ColumnTransformer([\n",
        "    ('num', numerical_pipeline, numerical_cols),\n",
        "    ('cat', categorical_pipeline, categorical_cols)\n",
        "])"
      ],
      "metadata": {
        "id": "2g0i6mYRWjrM"
      },
      "execution_count": 45,
      "outputs": []
    },
    {
      "cell_type": "code",
      "source": [
        "# Complete pipeline\n",
        "pipeline = Pipeline([\n",
        "    ('preprocessing', preprocessor),\n",
        "    ('regressor', XGBRegressor(n_estimators=100, learning_rate=0.1, random_state=42))\n",
        "])"
      ],
      "metadata": {
        "id": "RdvHb8WIWo53"
      },
      "execution_count": 46,
      "outputs": []
    },
    {
      "cell_type": "code",
      "source": [
        "# Train/test split\n",
        "X_train, X_test, y_train, y_test = train_test_split(X, y, test_size=0.2, random_state=42)"
      ],
      "metadata": {
        "id": "VdRLb_kKWxyB"
      },
      "execution_count": 47,
      "outputs": []
    },
    {
      "cell_type": "code",
      "source": [
        "# Fit and predict\n",
        "pipeline.fit(X_train, y_train)\n",
        "y_pred = pipeline.predict(X_test)"
      ],
      "metadata": {
        "id": "IJaVeXBbW1Lh"
      },
      "execution_count": 48,
      "outputs": []
    },
    {
      "cell_type": "code",
      "source": [
        "rmse = np.sqrt(mean_squared_error(y_test, y_pred))\n",
        "mae = mean_absolute_error(y_test, y_pred)\n",
        "\n",
        "print(f\"RMSE: {rmse:.2f}\")\n",
        "print(f\"MAE: {mae:.2f}\")\n"
      ],
      "metadata": {
        "colab": {
          "base_uri": "https://localhost:8080/"
        },
        "id": "u-kmSsnDW4n1",
        "outputId": "ed978542-a6a4-4fd0-cf1f-c474bdfb9fd7"
      },
      "execution_count": 49,
      "outputs": [
        {
          "output_type": "stream",
          "name": "stdout",
          "text": [
            "RMSE: 6753.96\n",
            "MAE: 4307.36\n"
          ]
        }
      ]
    }
  ]
}